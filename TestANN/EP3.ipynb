{
 "cells": [
  {
   "cell_type": "code",
   "execution_count": 1,
   "metadata": {},
   "outputs": [
    {
     "name": "stdout",
     "output_type": "stream",
     "text": [
      "ค่าถ่วงน้ำหนักใหม่: 0.95\n",
      "Loss: 16.875\n"
     ]
    }
   ],
   "source": [
    "import numpy as np\n",
    "\n",
    "# ข้อมูลจำลอง\n",
    "x = np.array([1, 2, 3, 4])  # Feature\n",
    "y = np.array([2, 4, 6, 8])  # ค่าจริง\n",
    "\n",
    "# ค่าถ่วงน้ำหนักเริ่มต้น\n",
    "W = 0.5  \n",
    "alpha = 0.01  # Learning Rate\n",
    "\n",
    "# คำนวณค่าพยากรณ์\n",
    "y_pred = W * x  \n",
    "\n",
    "# คำนวณ Loss Function (MSE)\n",
    "loss = np.mean((y - y_pred) ** 2)\n",
    "\n",
    "# คำนวณ Gradient\n",
    "gradient = -np.sum(x * (y - y_pred)) \n",
    "\n",
    "# อัปเดต W\n",
    "W = W - alpha * gradient\n",
    "\n",
    "print(f\"ค่าถ่วงน้ำหนักใหม่: {W}\")\n",
    "print(f\"Loss: {loss}\")\n"
   ]
  },
  {
   "cell_type": "code",
   "execution_count": null,
   "metadata": {},
   "outputs": [],
   "source": []
  }
 ],
 "metadata": {
  "kernelspec": {
   "display_name": "Python 3",
   "language": "python",
   "name": "python3"
  },
  "language_info": {
   "codemirror_mode": {
    "name": "ipython",
    "version": 3
   },
   "file_extension": ".py",
   "mimetype": "text/x-python",
   "name": "python",
   "nbconvert_exporter": "python",
   "pygments_lexer": "ipython3",
   "version": "3.11.3"
  }
 },
 "nbformat": 4,
 "nbformat_minor": 2
}
