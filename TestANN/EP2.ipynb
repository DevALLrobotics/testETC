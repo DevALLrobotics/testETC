{
 "cells": [
  {
   "cell_type": "markdown",
   "metadata": {},
   "source": [
    " สร้าง MLP ด้วย TensorFlow/Keras"
   ]
  },
  {
   "cell_type": "markdown",
   "metadata": {},
   "source": [
    "import Library"
   ]
  },
  {
   "cell_type": "code",
   "execution_count": 1,
   "metadata": {},
   "outputs": [],
   "source": [
    "import numpy as np\n",
    "import tensorflow as tf\n",
    "from tensorflow import keras\n",
    "from tensorflow.keras.layers import Dense\n",
    "from tensorflow.keras.models import Sequential"
   ]
  },
  {
   "cell_type": "markdown",
   "metadata": {},
   "source": [
    " MLP เพื่อแก้ปัญหา XOR Gate"
   ]
  },
  {
   "cell_type": "code",
   "execution_count": 2,
   "metadata": {},
   "outputs": [],
   "source": [
    "# สร้างชุดข้อมูล XOR\n",
    "X = np.array([[0, 0], [0, 1], [1, 0], [1, 1]])  # อินพุต\n",
    "y = np.array([0, 1, 1, 0])  # เอาต์พุตที่ต้องการ\n"
   ]
  },
  {
   "cell_type": "markdown",
   "metadata": {},
   "source": [
    "สร้างโมเดล MLP"
   ]
  },
  {
   "cell_type": "code",
   "execution_count": null,
   "metadata": {},
   "outputs": [],
   "source": [
    "# สร้างโมเดล ANN\n",
    "model = Sequential([\n",
    "    Dense(4, activation='relu', input_shape=(2,)),  # Hidden Layer 1\n",
    "    Dense(4, activation='relu'),                    # Hidden Layer 2\n",
    "    Dense(1, activation='sigmoid')                  # Output Layer (Binary Classification)\n",
    "])\n",
    "\n",
    "# คอมไพล์โมเดล\n",
    "model.compile(optimizer='adam', loss='binary_crossentropy', metrics=['accuracy'])\n"
   ]
  }
 ],
 "metadata": {
  "kernelspec": {
   "display_name": "base",
   "language": "python",
   "name": "python3"
  },
  "language_info": {
   "codemirror_mode": {
    "name": "ipython",
    "version": 3
   },
   "file_extension": ".py",
   "mimetype": "text/x-python",
   "name": "python",
   "nbconvert_exporter": "python",
   "pygments_lexer": "ipython3",
   "version": "3.12.3"
  }
 },
 "nbformat": 4,
 "nbformat_minor": 2
}
